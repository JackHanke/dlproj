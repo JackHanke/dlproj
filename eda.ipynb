{
 "cells": [
  {
   "cell_type": "code",
   "execution_count": 2,
   "metadata": {},
   "outputs": [
    {
     "name": "stdout",
     "output_type": "stream",
     "text": [
      "Reading in data 0\n",
      "Reading in data 1\n",
      "Reading in data 2\n",
      "Length of training data: 319137\n"
     ]
    }
   ],
   "source": [
    "import pickle\n",
    "from sklearn.model_selection import train_test_split\n",
    "\n",
    "\n",
    "# split dataset\n",
    "training_data = []\n",
    "# for i in range(3):\n",
    "for i in range(5):\n",
    "    print(f'Reading in data {i}')\n",
    "    with open(f'data/moves-str-{i}.pkl', 'rb') as f:\n",
    "        training_data += pickle.load(f)\n",
    "\n",
    "# with open(f'data/moves-str-{3}.pkl', 'rb') as f:\n",
    "#     temp = pickle.load(f)\n",
    "#     n = len(temp)//2\n",
    "\n",
    "#     training_data += temp[:n]\n",
    "\n",
    "#     with open(f'data/moves-str.valid.pkl', 'wb') as f:\n",
    "#         pickle.dump(temp[n:], f)    \n",
    "    \n",
    "    \n",
    "# train, valid = train_test_split(training_data, test_size=0.2)\n",
    "# print(f'Length of train: {len(train)}, Length of validation: {len(valid)}')\n",
    "print(f'Length of training data: {len(training_data)}')\n",
    "\n",
    "with open(f'data/moves-str.pkl', 'wb') as f:\n",
    "    pickle.dump(training_data, f)\n",
    "# with open(f'tests/moves.valid.pkl', 'wb') as f:\n",
    "#     pickle.dump(valid, f)\n"
   ]
  },
  {
   "cell_type": "code",
   "execution_count": 6,
   "metadata": {},
   "outputs": [
    {
     "data": {
      "text/plain": [
       "(8, 8, 111)"
      ]
     },
     "execution_count": 6,
     "metadata": {},
     "output_type": "execute_result"
    }
   ],
   "source": [
    "import pickle\n",
    "from utils.utils import observe\n",
    "\n",
    "with open(\"data/moves-str-0.pkl\", 'rb') as f:\n",
    "    data = pickle.load(f)\n",
    "\n",
    "\n",
    "state, action, value, player_str, board_hist = data[0]\n",
    "obs = observe(board=state, agent=player_str, possible_agents=['player_0', 'player_1'], board_history=board_hist, agent_selection=player_str)\n",
    "img = obs['observation']\n",
    "img.shape"
   ]
  }
 ],
 "metadata": {
  "kernelspec": {
   "display_name": "venv",
   "language": "python",
   "name": "python3"
  },
  "language_info": {
   "codemirror_mode": {
    "name": "ipython",
    "version": 3
   },
   "file_extension": ".py",
   "mimetype": "text/x-python",
   "name": "python",
   "nbconvert_exporter": "python",
   "pygments_lexer": "ipython3",
   "version": "3.12.4"
  }
 },
 "nbformat": 4,
 "nbformat_minor": 2
}
