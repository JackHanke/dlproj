{
 "cells": [
  {
   "cell_type": "code",
   "execution_count": 1,
   "metadata": {},
   "outputs": [
    {
     "name": "stdout",
     "output_type": "stream",
     "text": [
      "Length of train: 49288, Length of validation: 12322\n"
     ]
    }
   ],
   "source": [
    "import pickle\n",
    "from sklearn.model_selection import train_test_split\n",
    "\n",
    "\n",
    "# split dataset\n",
    "with open(f'tests/stock_data.pkl', 'rb') as f:\n",
    "    training_data = pickle.load(f)\n",
    "\n",
    "    train, valid = train_test_split(training_data, test_size=0.2)\n",
    "    print(f'Length of train: {len(train)}, Length of validation: {len(valid)}')\n",
    "\n",
    "    with open(f'tests/moves.train.pkl', 'wb') as f:\n",
    "        pickle.dump(train, f)\n",
    "    with open(f'tests/moves.valid.pkl', 'wb') as f:\n",
    "        pickle.dump(valid, f)\n"
   ]
  }
 ],
 "metadata": {
  "kernelspec": {
   "display_name": "dlvenv",
   "language": "python",
   "name": "python3"
  },
  "language_info": {
   "codemirror_mode": {
    "name": "ipython",
    "version": 3
   },
   "file_extension": ".py",
   "mimetype": "text/x-python",
   "name": "python",
   "nbconvert_exporter": "python",
   "pygments_lexer": "ipython3",
   "version": "3.11.2"
  }
 },
 "nbformat": 4,
 "nbformat_minor": 2
}
