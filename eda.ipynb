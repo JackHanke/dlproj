{
 "cells": [
  {
   "cell_type": "code",
   "execution_count": null,
   "metadata": {},
   "outputs": [
    {
     "name": "stdout",
     "output_type": "stream",
     "text": [
      "Length of train: 118555, Length of validation: 29639\n"
     ]
    },
    {
     "ename": "",
     "evalue": "",
     "output_type": "error",
     "traceback": [
      "\u001b[1;31mThe Kernel crashed while executing code in the current cell or a previous cell. \n",
      "\u001b[1;31mPlease review the code in the cell(s) to identify a possible cause of the failure. \n",
      "\u001b[1;31mClick <a href='https://aka.ms/vscodeJupyterKernelCrash'>here</a> for more info. \n",
      "\u001b[1;31mView Jupyter <a href='command:jupyter.viewOutput'>log</a> for further details."
     ]
    }
   ],
   "source": [
    "import pickle\n",
    "from sklearn.model_selection import train_test_split\n",
    "\n",
    "\n",
    "# split dataset\n",
    "training_data = []\n",
    "for i in range(3):\n",
    "    with open(f'tests/moves-{i}.pkl', 'rb') as f:\n",
    "        training_data += pickle.load(f)\n",
    "\n",
    "train, valid = train_test_split(training_data, test_size=0.2)\n",
    "print(f'Length of train: {len(train)}, Length of validation: {len(valid)}')\n",
    "\n",
    "with open(f'tests/moves.train.pkl', 'wb') as f:\n",
    "    pickle.dump(train, f)\n",
    "with open(f'tests/moves.valid.pkl', 'wb') as f:\n",
    "    pickle.dump(valid, f)\n"
   ]
  }
 ],
 "metadata": {
  "kernelspec": {
   "display_name": "dlvenv",
   "language": "python",
   "name": "python3"
  },
  "language_info": {
   "codemirror_mode": {
    "name": "ipython",
    "version": 3
   },
   "file_extension": ".py",
   "mimetype": "text/x-python",
   "name": "python",
   "nbconvert_exporter": "python",
   "pygments_lexer": "ipython3",
   "version": "3.11.2"
  }
 },
 "nbformat": 4,
 "nbformat_minor": 2
}
